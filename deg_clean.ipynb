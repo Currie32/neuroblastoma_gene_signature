{
 "cells": [
  {
   "cell_type": "code",
   "execution_count": 1,
   "id": "9c6c6c14",
   "metadata": {},
   "outputs": [],
   "source": [
    "import pandas as pd"
   ]
  },
  {
   "cell_type": "code",
   "execution_count": 2,
   "id": "466fd3aa",
   "metadata": {},
   "outputs": [],
   "source": [
    "\n",
    "deseq_data = pd.read_csv(r\"DEseq2.csv\")\n",
    "deseq_2_data = pd.read_csv(\"FinalGeneList_1.5_fold_NoTrkA.txt\", names = [\"ensembl_gene_id_version\", \"external_gene_name\"], sep=\"\\t\") #csv has no header\n",
    "edge_data = pd.read_csv(r\"EdgeR.csv\")\n",
    "limma_data = pd.read_csv(r\"limma-voom.csv\")"
   ]
  },
  {
   "cell_type": "code",
   "execution_count": 3,
   "id": "ccc078d0",
   "metadata": {},
   "outputs": [
    {
     "data": {
      "text/html": [
       "<div>\n",
       "<style scoped>\n",
       "    .dataframe tbody tr th:only-of-type {\n",
       "        vertical-align: middle;\n",
       "    }\n",
       "\n",
       "    .dataframe tbody tr th {\n",
       "        vertical-align: top;\n",
       "    }\n",
       "\n",
       "    .dataframe thead th {\n",
       "        text-align: right;\n",
       "    }\n",
       "</style>\n",
       "<table border=\"1\" class=\"dataframe\">\n",
       "  <thead>\n",
       "    <tr style=\"text-align: right;\">\n",
       "      <th></th>\n",
       "      <th>Unnamed: 0</th>\n",
       "      <th>external_gene_name</th>\n",
       "      <th>log2FoldChange</th>\n",
       "      <th>padj</th>\n",
       "      <th>gene_biotype</th>\n",
       "      <th>description</th>\n",
       "      <th>ensembl_gene_id_version</th>\n",
       "    </tr>\n",
       "  </thead>\n",
       "  <tbody>\n",
       "    <tr>\n",
       "      <th>0</th>\n",
       "      <td>1</td>\n",
       "      <td>AL139011.2</td>\n",
       "      <td>6.568743</td>\n",
       "      <td>0.040201</td>\n",
       "      <td>protein_coding</td>\n",
       "      <td>novel protein</td>\n",
       "      <td>ENSG00000258465.8</td>\n",
       "    </tr>\n",
       "    <tr>\n",
       "      <th>1</th>\n",
       "      <td>2</td>\n",
       "      <td>PLXDC1</td>\n",
       "      <td>3.570140</td>\n",
       "      <td>0.032559</td>\n",
       "      <td>protein_coding</td>\n",
       "      <td>plexin domain containing 1 [Source:HGNC Symbol...</td>\n",
       "      <td>ENSG00000161381.14</td>\n",
       "    </tr>\n",
       "    <tr>\n",
       "      <th>2</th>\n",
       "      <td>3</td>\n",
       "      <td>DIPK2A</td>\n",
       "      <td>2.576218</td>\n",
       "      <td>0.036660</td>\n",
       "      <td>protein_coding</td>\n",
       "      <td>divergent protein kinase domain 2A [Source:HGN...</td>\n",
       "      <td>ENSG00000181744.9</td>\n",
       "    </tr>\n",
       "    <tr>\n",
       "      <th>3</th>\n",
       "      <td>4</td>\n",
       "      <td>VWA7</td>\n",
       "      <td>2.350473</td>\n",
       "      <td>0.040201</td>\n",
       "      <td>protein_coding</td>\n",
       "      <td>von Willebrand factor A domain containing 7 [S...</td>\n",
       "      <td>ENSG00000204396.11</td>\n",
       "    </tr>\n",
       "    <tr>\n",
       "      <th>4</th>\n",
       "      <td>5</td>\n",
       "      <td>ITGA11</td>\n",
       "      <td>2.151866</td>\n",
       "      <td>0.016861</td>\n",
       "      <td>protein_coding</td>\n",
       "      <td>integrin subunit alpha 11 [Source:HGNC Symbol;...</td>\n",
       "      <td>ENSG00000137809.17</td>\n",
       "    </tr>\n",
       "  </tbody>\n",
       "</table>\n",
       "</div>"
      ],
      "text/plain": [
       "   Unnamed: 0 external_gene_name  log2FoldChange      padj    gene_biotype  \\\n",
       "0           1         AL139011.2        6.568743  0.040201  protein_coding   \n",
       "1           2             PLXDC1        3.570140  0.032559  protein_coding   \n",
       "2           3             DIPK2A        2.576218  0.036660  protein_coding   \n",
       "3           4               VWA7        2.350473  0.040201  protein_coding   \n",
       "4           5             ITGA11        2.151866  0.016861  protein_coding   \n",
       "\n",
       "                                         description ensembl_gene_id_version  \n",
       "0                                      novel protein       ENSG00000258465.8  \n",
       "1  plexin domain containing 1 [Source:HGNC Symbol...      ENSG00000161381.14  \n",
       "2  divergent protein kinase domain 2A [Source:HGN...       ENSG00000181744.9  \n",
       "3  von Willebrand factor A domain containing 7 [S...      ENSG00000204396.11  \n",
       "4  integrin subunit alpha 11 [Source:HGNC Symbol;...      ENSG00000137809.17  "
      ]
     },
     "execution_count": 3,
     "metadata": {},
     "output_type": "execute_result"
    }
   ],
   "source": [
    "deseq_data.head()"
   ]
  },
  {
   "cell_type": "code",
   "execution_count": 4,
   "id": "ef2c4f56",
   "metadata": {},
   "outputs": [
    {
     "data": {
      "text/html": [
       "<div>\n",
       "<style scoped>\n",
       "    .dataframe tbody tr th:only-of-type {\n",
       "        vertical-align: middle;\n",
       "    }\n",
       "\n",
       "    .dataframe tbody tr th {\n",
       "        vertical-align: top;\n",
       "    }\n",
       "\n",
       "    .dataframe thead th {\n",
       "        text-align: right;\n",
       "    }\n",
       "</style>\n",
       "<table border=\"1\" class=\"dataframe\">\n",
       "  <thead>\n",
       "    <tr style=\"text-align: right;\">\n",
       "      <th></th>\n",
       "      <th>ensembl_gene_id_version</th>\n",
       "      <th>external_gene_name</th>\n",
       "    </tr>\n",
       "  </thead>\n",
       "  <tbody>\n",
       "    <tr>\n",
       "      <th>0</th>\n",
       "      <td>ENSG00000198400</td>\n",
       "      <td>NTRK1</td>\n",
       "    </tr>\n",
       "    <tr>\n",
       "      <th>1</th>\n",
       "      <td>ENSG00000198825</td>\n",
       "      <td>INPP5F</td>\n",
       "    </tr>\n",
       "    <tr>\n",
       "      <th>2</th>\n",
       "      <td>ENSG00000249839</td>\n",
       "      <td>AC011330.1</td>\n",
       "    </tr>\n",
       "    <tr>\n",
       "      <th>3</th>\n",
       "      <td>ENSG00000249896</td>\n",
       "      <td>LINC02495</td>\n",
       "    </tr>\n",
       "    <tr>\n",
       "      <th>4</th>\n",
       "      <td>ENSG00000180787</td>\n",
       "      <td>ZFP3</td>\n",
       "    </tr>\n",
       "  </tbody>\n",
       "</table>\n",
       "</div>"
      ],
      "text/plain": [
       "  ensembl_gene_id_version external_gene_name\n",
       "0         ENSG00000198400              NTRK1\n",
       "1         ENSG00000198825             INPP5F\n",
       "2         ENSG00000249839         AC011330.1\n",
       "3         ENSG00000249896          LINC02495\n",
       "4         ENSG00000180787               ZFP3"
      ]
     },
     "execution_count": 4,
     "metadata": {},
     "output_type": "execute_result"
    }
   ],
   "source": [
    "deseq_2_data.head()"
   ]
  },
  {
   "cell_type": "code",
   "execution_count": 5,
   "id": "20d8eaff",
   "metadata": {},
   "outputs": [
    {
     "data": {
      "text/html": [
       "<div>\n",
       "<style scoped>\n",
       "    .dataframe tbody tr th:only-of-type {\n",
       "        vertical-align: middle;\n",
       "    }\n",
       "\n",
       "    .dataframe tbody tr th {\n",
       "        vertical-align: top;\n",
       "    }\n",
       "\n",
       "    .dataframe thead th {\n",
       "        text-align: right;\n",
       "    }\n",
       "</style>\n",
       "<table border=\"1\" class=\"dataframe\">\n",
       "  <thead>\n",
       "    <tr style=\"text-align: right;\">\n",
       "      <th></th>\n",
       "      <th>Unnamed: 0</th>\n",
       "      <th>external_gene_name</th>\n",
       "      <th>log2FoldChange</th>\n",
       "      <th>padj</th>\n",
       "      <th>gene_biotype</th>\n",
       "      <th>description</th>\n",
       "      <th>ensembl_gene_id_version</th>\n",
       "    </tr>\n",
       "  </thead>\n",
       "  <tbody>\n",
       "    <tr>\n",
       "      <th>0</th>\n",
       "      <td>1</td>\n",
       "      <td>FAM220A</td>\n",
       "      <td>6.756461</td>\n",
       "      <td>4.000000e-28</td>\n",
       "      <td>protein_coding</td>\n",
       "      <td>family with sequence similarity 220 member A [...</td>\n",
       "      <td>ENSG00000178397.13</td>\n",
       "    </tr>\n",
       "    <tr>\n",
       "      <th>1</th>\n",
       "      <td>2</td>\n",
       "      <td>AL159163.1</td>\n",
       "      <td>5.078716</td>\n",
       "      <td>9.976791e-03</td>\n",
       "      <td>protein_coding</td>\n",
       "      <td>novel protein</td>\n",
       "      <td>ENSG00000249141.1</td>\n",
       "    </tr>\n",
       "    <tr>\n",
       "      <th>2</th>\n",
       "      <td>3</td>\n",
       "      <td>RNU6-33P</td>\n",
       "      <td>4.929061</td>\n",
       "      <td>1.612806e-02</td>\n",
       "      <td>snRNA</td>\n",
       "      <td>RNA, U6 small nuclear 33, pseudogene [Source:H...</td>\n",
       "      <td>ENSG00000207524.1</td>\n",
       "    </tr>\n",
       "    <tr>\n",
       "      <th>3</th>\n",
       "      <td>4</td>\n",
       "      <td>HAPLN4</td>\n",
       "      <td>4.788466</td>\n",
       "      <td>2.624322e-02</td>\n",
       "      <td>protein_coding</td>\n",
       "      <td>hyaluronan and proteoglycan link protein 4 [So...</td>\n",
       "      <td>ENSG00000187664.9</td>\n",
       "    </tr>\n",
       "    <tr>\n",
       "      <th>4</th>\n",
       "      <td>5</td>\n",
       "      <td>ARL2-SNX15</td>\n",
       "      <td>2.724237</td>\n",
       "      <td>3.728628e-03</td>\n",
       "      <td>protein_coding</td>\n",
       "      <td>ARL2-SNX15 readthrough (NMD candidate) [Source...</td>\n",
       "      <td>ENSG00000273003.1</td>\n",
       "    </tr>\n",
       "  </tbody>\n",
       "</table>\n",
       "</div>"
      ],
      "text/plain": [
       "   Unnamed: 0 external_gene_name  log2FoldChange          padj  \\\n",
       "0           1            FAM220A        6.756461  4.000000e-28   \n",
       "1           2         AL159163.1        5.078716  9.976791e-03   \n",
       "2           3           RNU6-33P        4.929061  1.612806e-02   \n",
       "3           4             HAPLN4        4.788466  2.624322e-02   \n",
       "4           5         ARL2-SNX15        2.724237  3.728628e-03   \n",
       "\n",
       "     gene_biotype                                        description  \\\n",
       "0  protein_coding  family with sequence similarity 220 member A [...   \n",
       "1  protein_coding                                      novel protein   \n",
       "2           snRNA  RNA, U6 small nuclear 33, pseudogene [Source:H...   \n",
       "3  protein_coding  hyaluronan and proteoglycan link protein 4 [So...   \n",
       "4  protein_coding  ARL2-SNX15 readthrough (NMD candidate) [Source...   \n",
       "\n",
       "  ensembl_gene_id_version  \n",
       "0      ENSG00000178397.13  \n",
       "1       ENSG00000249141.1  \n",
       "2       ENSG00000207524.1  \n",
       "3       ENSG00000187664.9  \n",
       "4       ENSG00000273003.1  "
      ]
     },
     "execution_count": 5,
     "metadata": {},
     "output_type": "execute_result"
    }
   ],
   "source": [
    "edge_data.head()"
   ]
  },
  {
   "cell_type": "code",
   "execution_count": 6,
   "id": "f0522531",
   "metadata": {},
   "outputs": [
    {
     "data": {
      "text/html": [
       "<div>\n",
       "<style scoped>\n",
       "    .dataframe tbody tr th:only-of-type {\n",
       "        vertical-align: middle;\n",
       "    }\n",
       "\n",
       "    .dataframe tbody tr th {\n",
       "        vertical-align: top;\n",
       "    }\n",
       "\n",
       "    .dataframe thead th {\n",
       "        text-align: right;\n",
       "    }\n",
       "</style>\n",
       "<table border=\"1\" class=\"dataframe\">\n",
       "  <thead>\n",
       "    <tr style=\"text-align: right;\">\n",
       "      <th></th>\n",
       "      <th>Unnamed: 0</th>\n",
       "      <th>external_gene_name</th>\n",
       "      <th>log2FoldChange</th>\n",
       "      <th>padj</th>\n",
       "      <th>gene_biotype</th>\n",
       "      <th>description</th>\n",
       "      <th>ensembl_gene_id_version</th>\n",
       "    </tr>\n",
       "  </thead>\n",
       "  <tbody>\n",
       "    <tr>\n",
       "      <th>0</th>\n",
       "      <td>1</td>\n",
       "      <td>VWA7</td>\n",
       "      <td>2.431279</td>\n",
       "      <td>0.047555</td>\n",
       "      <td>protein_coding</td>\n",
       "      <td>von Willebrand factor A domain containing 7 [S...</td>\n",
       "      <td>ENSG00000204396.11</td>\n",
       "    </tr>\n",
       "    <tr>\n",
       "      <th>1</th>\n",
       "      <td>2</td>\n",
       "      <td>ITGA11</td>\n",
       "      <td>2.047691</td>\n",
       "      <td>0.042485</td>\n",
       "      <td>protein_coding</td>\n",
       "      <td>integrin subunit alpha 11 [Source:HGNC Symbol;...</td>\n",
       "      <td>ENSG00000137809.17</td>\n",
       "    </tr>\n",
       "    <tr>\n",
       "      <th>2</th>\n",
       "      <td>3</td>\n",
       "      <td>IGSF10</td>\n",
       "      <td>1.717703</td>\n",
       "      <td>0.040909</td>\n",
       "      <td>protein_coding</td>\n",
       "      <td>immunoglobulin superfamily member 10 [Source:H...</td>\n",
       "      <td>ENSG00000152580.8</td>\n",
       "    </tr>\n",
       "    <tr>\n",
       "      <th>3</th>\n",
       "      <td>4</td>\n",
       "      <td>CHODL</td>\n",
       "      <td>1.706261</td>\n",
       "      <td>0.013145</td>\n",
       "      <td>protein_coding</td>\n",
       "      <td>chondrolectin [Source:HGNC Symbol;Acc:HGNC:17807]</td>\n",
       "      <td>ENSG00000154645.14</td>\n",
       "    </tr>\n",
       "    <tr>\n",
       "      <th>4</th>\n",
       "      <td>5</td>\n",
       "      <td>SH2D3C</td>\n",
       "      <td>1.174026</td>\n",
       "      <td>0.048801</td>\n",
       "      <td>protein_coding</td>\n",
       "      <td>SH2 domain containing 3C [Source:HGNC Symbol;A...</td>\n",
       "      <td>ENSG00000095370.20</td>\n",
       "    </tr>\n",
       "  </tbody>\n",
       "</table>\n",
       "</div>"
      ],
      "text/plain": [
       "   Unnamed: 0 external_gene_name  log2FoldChange      padj    gene_biotype  \\\n",
       "0           1               VWA7        2.431279  0.047555  protein_coding   \n",
       "1           2             ITGA11        2.047691  0.042485  protein_coding   \n",
       "2           3             IGSF10        1.717703  0.040909  protein_coding   \n",
       "3           4              CHODL        1.706261  0.013145  protein_coding   \n",
       "4           5             SH2D3C        1.174026  0.048801  protein_coding   \n",
       "\n",
       "                                         description ensembl_gene_id_version  \n",
       "0  von Willebrand factor A domain containing 7 [S...      ENSG00000204396.11  \n",
       "1  integrin subunit alpha 11 [Source:HGNC Symbol;...      ENSG00000137809.17  \n",
       "2  immunoglobulin superfamily member 10 [Source:H...       ENSG00000152580.8  \n",
       "3  chondrolectin [Source:HGNC Symbol;Acc:HGNC:17807]      ENSG00000154645.14  \n",
       "4  SH2 domain containing 3C [Source:HGNC Symbol;A...      ENSG00000095370.20  "
      ]
     },
     "execution_count": 6,
     "metadata": {},
     "output_type": "execute_result"
    }
   ],
   "source": [
    "limma_data.head()"
   ]
  },
  {
   "cell_type": "code",
   "execution_count": 7,
   "id": "a59a2031",
   "metadata": {},
   "outputs": [],
   "source": [
    "deseq_data_genes = pd.Series(deseq_data.external_gene_name)\n",
    "deseq_2_data_genes = pd.Series(deseq_2_data.external_gene_name)\n",
    "edge_data_genes = pd.Series(edge_data.external_gene_name)\n",
    "limma_data_genes = pd.Series(limma_data.external_gene_name)"
   ]
  },
  {
   "cell_type": "code",
   "execution_count": 8,
   "id": "b10c8f8b",
   "metadata": {},
   "outputs": [
    {
     "name": "stdout",
     "output_type": "stream",
     "text": [
      "36\n",
      "69\n",
      "85\n",
      "26\n"
     ]
    }
   ],
   "source": [
    "###### expected 36, 68, 85, 26 respectively\n",
    "gene_sets = [deseq_data_genes, deseq_2_data_genes, edge_data_genes, limma_data_genes]\n",
    "for i in gene_sets:\n",
    "    print(len(i))"
   ]
  },
  {
   "cell_type": "markdown",
   "id": "e291f37a",
   "metadata": {},
   "source": [
    "The deseq_2 gene list contains 69 genes. \n",
    "According to section 5.2.2 of Arthurs final report it shoul be 68 genes.\n",
    "The first gene is NTRK1 (TrkA), remove"
   ]
  },
  {
   "cell_type": "code",
   "execution_count": 9,
   "id": "d5d791c5",
   "metadata": {},
   "outputs": [],
   "source": [
    "deseq_2_data_genes = deseq_2_data_genes.drop(0)  # remove NTRK1 "
   ]
  },
  {
   "cell_type": "code",
   "execution_count": 10,
   "id": "62f579f8",
   "metadata": {},
   "outputs": [
    {
     "name": "stdout",
     "output_type": "stream",
     "text": [
      "215\n"
     ]
    }
   ],
   "source": [
    "gene_list = deseq_data_genes.append(deseq_2_data_genes, ignore_index = True).append(edge_data_genes, ignore_index = True).append(limma_data_genes, ignore_index = True)\n",
    "print(len(gene_list)) # correct length"
   ]
  },
  {
   "cell_type": "code",
   "execution_count": 11,
   "id": "5bc00af3",
   "metadata": {},
   "outputs": [
    {
     "name": "stdout",
     "output_type": "stream",
     "text": [
      "0      AL139011.2\n",
      "1          PLXDC1\n",
      "2          DIPK2A\n",
      "3            VWA7\n",
      "4          ITGA11\n",
      "          ...    \n",
      "191        IGSF10\n",
      "192         CHODL\n",
      "207         PLPP2\n",
      "209        CLDN23\n",
      "213         KCNQ3\n",
      "Name: external_gene_name, Length: 163, dtype: object\n"
     ]
    }
   ],
   "source": [
    "gene_list = gene_list.drop_duplicates(keep=\"first\")\n",
    "print(gene_list) #will be 169 when adding the four CoV genes"
   ]
  },
  {
   "cell_type": "code",
   "execution_count": 12,
   "id": "66c29567",
   "metadata": {},
   "outputs": [
    {
     "data": {
      "text/plain": [
       "True"
      ]
     },
     "execution_count": 12,
     "metadata": {},
     "output_type": "execute_result"
    }
   ],
   "source": [
    "gene_list.is_unique  #quality control to check duplicates are removed"
   ]
  },
  {
   "cell_type": "code",
   "execution_count": 33,
   "id": "a403e5d4",
   "metadata": {},
   "outputs": [],
   "source": [
    "#gene_list_to_file = gene_list.append(pd.Series([\"ACE2\", \"CD147\", \"PPIA\", \"PPIB\"])) #append the 4 CoV2 genes\n",
    "#gene_list_to_file.to_csv(\"deg_gene_name.csv\", index = False)"
   ]
  },
  {
   "cell_type": "markdown",
   "id": "edf0c59f",
   "metadata": {},
   "source": [
    "The Below cell is the same but instead of by merging by gene_name does so by ensemble_gene_id_version:"
   ]
  },
  {
   "cell_type": "code",
   "execution_count": 14,
   "id": "51fe7412",
   "metadata": {},
   "outputs": [
    {
     "name": "stdout",
     "output_type": "stream",
     "text": [
      "215\n",
      "0       ENSG00000258465.8\n",
      "1      ENSG00000161381.14\n",
      "2       ENSG00000181744.9\n",
      "3      ENSG00000204396.11\n",
      "4      ENSG00000137809.17\n",
      "              ...        \n",
      "192    ENSG00000154645.14\n",
      "193    ENSG00000095370.20\n",
      "207    ENSG00000141934.10\n",
      "209     ENSG00000253958.2\n",
      "213    ENSG00000184156.17\n",
      "Name: ensembl_gene_id_version, Length: 176, dtype: object\n"
     ]
    }
   ],
   "source": [
    "#The same but by ensembl_gene_id_version\n",
    "deseq_data_id = pd.Series(deseq_data.ensembl_gene_id_version)\n",
    "deseq_2_data_id = pd.Series(deseq_2_data.ensembl_gene_id_version)\n",
    "edge_data_id = pd.Series(edge_data.ensembl_gene_id_version)\n",
    "limma_data_id = pd.Series(limma_data.ensembl_gene_id_version)\n",
    "\n",
    "deseq_2_data_id = deseq_2_data_id.drop(0)\n",
    "\n",
    "id_list = deseq_data_id.append(deseq_2_data_id, ignore_index = True).append(edge_data_id, ignore_index = True).append(limma_data_id, ignore_index = True)\n",
    "print(len(id_list)) # correct length\n",
    "id_list = id_list.drop_duplicates(keep=\"first\")\n",
    "print(id_list) #will be 17\n",
    "\n"
   ]
  },
  {
   "cell_type": "markdown",
   "id": "26eb6442",
   "metadata": {},
   "source": [
    "Hence, some gene names map to more than one ENS code\n",
    "176 (compared to 163)\n",
    "\n",
    "\n",
    "Below: to find which genes map to multiple ENS codes - "
   ]
  },
  {
   "cell_type": "code",
   "execution_count": 16,
   "id": "2d183722",
   "metadata": {},
   "outputs": [],
   "source": [
    "#create a dic of the 163 gene names with [] values\n",
    "name_to_ens = dict()\n",
    "for i in list(gene_list):\n",
    "    name_to_ens.setdefault(i, [])"
   ]
  },
  {
   "cell_type": "code",
   "execution_count": 17,
   "id": "b11c47f5",
   "metadata": {},
   "outputs": [],
   "source": [
    "#fx to add unique ensembl id's that map to gene names\n",
    "\n",
    "def get_ens(data):\n",
    "    for index, name in enumerate(data.external_gene_name):\n",
    "        for j in name_to_ens:\n",
    "            if name == j:\n",
    "                if data.ensembl_gene_id_version[index] not in name_to_ens[j]:\n",
    "                    name_to_ens[j].append(data.ensembl_gene_id_version[index])\n",
    "                   "
   ]
  },
  {
   "cell_type": "code",
   "execution_count": 18,
   "id": "3c223f38",
   "metadata": {},
   "outputs": [],
   "source": [
    "for i in [deseq_data, deseq_2_data, edge_data, limma_data]:\n",
    "    get_ens(i)"
   ]
  },
  {
   "cell_type": "code",
   "execution_count": 19,
   "id": "46c302c0",
   "metadata": {},
   "outputs": [
    {
     "name": "stdout",
     "output_type": "stream",
     "text": [
      "176\n"
     ]
    }
   ],
   "source": [
    "#This cell just checks the above code works (should be 176)\n",
    "count= 0\n",
    "for i in name_to_ens:\n",
    "    count += len(name_to_ens[i])\n",
    "print(count)"
   ]
  },
  {
   "cell_type": "code",
   "execution_count": 20,
   "id": "5e0af58b",
   "metadata": {},
   "outputs": [
    {
     "name": "stdout",
     "output_type": "stream",
     "text": [
      "FNBP1 ['ENSG00000187239.17', 'ENSG00000187239'] \n",
      "\n",
      "ZNF423 ['ENSG00000102935.11', 'ENSG00000102935'] \n",
      "\n",
      "SIX3 ['ENSG00000138083.5', 'ENSG00000138083'] \n",
      "\n",
      "PCDHB14 ['ENSG00000120327.6', 'ENSG00000120327'] \n",
      "\n",
      "TNNT1 ['ENSG00000105048.17', 'ENSG00000105048'] \n",
      "\n",
      "BCAN ['ENSG00000132692.19', 'ENSG00000132692'] \n",
      "\n",
      "DLG2 ['ENSG00000150672.17', 'ENSG00000150672'] \n",
      "\n",
      "TRIM5 ['ENSG00000132256.19', 'ENSG00000132256'] \n",
      "\n",
      "DENND1C ['ENSG00000205744.10', 'ENSG00000205744'] \n",
      "\n",
      "PCDHB2 ['ENSG00000112852.7', 'ENSG00000112852'] \n",
      "\n",
      "RGS10 ['ENSG00000148908', 'ENSG00000148908.15'] \n",
      "\n",
      "SH2D3C ['ENSG00000095370', 'ENSG00000095370.20'] \n",
      "\n",
      "FRAS1 ['ENSG00000138759', 'ENSG00000138759.19'] \n",
      "\n"
     ]
    }
   ],
   "source": [
    "for i in name_to_ens:\n",
    "    if len(name_to_ens[i]) > 1:\n",
    "        print(i, name_to_ens[i], \"\\n\")"
   ]
  },
  {
   "cell_type": "markdown",
   "id": "10992d74",
   "metadata": {},
   "source": [
    "There are 13 gene names with two codes (163 +13 = 176). These ID's need to further investigated"
   ]
  }
 ],
 "metadata": {
  "kernelspec": {
   "display_name": "Python 3",
   "language": "python",
   "name": "python3"
  },
  "language_info": {
   "codemirror_mode": {
    "name": "ipython",
    "version": 3
   },
   "file_extension": ".py",
   "mimetype": "text/x-python",
   "name": "python",
   "nbconvert_exporter": "python",
   "pygments_lexer": "ipython3",
   "version": "3.8.8"
  }
 },
 "nbformat": 4,
 "nbformat_minor": 5
}
